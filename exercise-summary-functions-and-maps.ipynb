{
 "cells": [
  {
   "cell_type": "markdown",
   "id": "9f41ae0f",
   "metadata": {
    "papermill": {
     "duration": 0.009818,
     "end_time": "2022-06-19T22:42:09.189056",
     "exception": false,
     "start_time": "2022-06-19T22:42:09.179238",
     "status": "completed"
    },
    "tags": []
   },
   "source": [
    "**This notebook is an exercise in the [Pandas](https://www.kaggle.com/learn/pandas) course.  You can reference the tutorial at [this link](https://www.kaggle.com/residentmario/summary-functions-and-maps).**\n",
    "\n",
    "---\n"
   ]
  },
  {
   "cell_type": "markdown",
   "id": "d5d6538d",
   "metadata": {
    "papermill": {
     "duration": 0.006763,
     "end_time": "2022-06-19T22:42:09.202619",
     "exception": false,
     "start_time": "2022-06-19T22:42:09.195856",
     "status": "completed"
    },
    "tags": []
   },
   "source": [
    "# Introduction\n",
    "\n",
    "Now you are ready to get a deeper understanding of your data.\n",
    "\n",
    "Run the following cell to load your data and some utility functions (including code to check your answers)."
   ]
  },
  {
   "cell_type": "code",
   "execution_count": 1,
   "id": "db988b1f",
   "metadata": {
    "execution": {
     "iopub.execute_input": "2022-06-19T22:42:09.218754Z",
     "iopub.status.busy": "2022-06-19T22:42:09.217738Z",
     "iopub.status.idle": "2022-06-19T22:42:18.004069Z",
     "shell.execute_reply": "2022-06-19T22:42:18.002427Z"
    },
    "papermill": {
     "duration": 8.797942,
     "end_time": "2022-06-19T22:42:18.007234",
     "exception": false,
     "start_time": "2022-06-19T22:42:09.209292",
     "status": "completed"
    },
    "tags": []
   },
   "outputs": [
    {
     "name": "stdout",
     "output_type": "stream",
     "text": [
      "Setup complete.\n"
     ]
    },
    {
     "data": {
      "text/html": [
       "<div>\n",
       "<style scoped>\n",
       "    .dataframe tbody tr th:only-of-type {\n",
       "        vertical-align: middle;\n",
       "    }\n",
       "\n",
       "    .dataframe tbody tr th {\n",
       "        vertical-align: top;\n",
       "    }\n",
       "\n",
       "    .dataframe thead th {\n",
       "        text-align: right;\n",
       "    }\n",
       "</style>\n",
       "<table border=\"1\" class=\"dataframe\">\n",
       "  <thead>\n",
       "    <tr style=\"text-align: right;\">\n",
       "      <th></th>\n",
       "      <th>country</th>\n",
       "      <th>description</th>\n",
       "      <th>designation</th>\n",
       "      <th>points</th>\n",
       "      <th>price</th>\n",
       "      <th>province</th>\n",
       "      <th>region_1</th>\n",
       "      <th>region_2</th>\n",
       "      <th>taster_name</th>\n",
       "      <th>taster_twitter_handle</th>\n",
       "      <th>title</th>\n",
       "      <th>variety</th>\n",
       "      <th>winery</th>\n",
       "    </tr>\n",
       "  </thead>\n",
       "  <tbody>\n",
       "    <tr>\n",
       "      <th>0</th>\n",
       "      <td>Italy</td>\n",
       "      <td>Aromas include tropical fruit, broom, brimston...</td>\n",
       "      <td>Vulkà Bianco</td>\n",
       "      <td>87</td>\n",
       "      <td>NaN</td>\n",
       "      <td>Sicily &amp; Sardinia</td>\n",
       "      <td>Etna</td>\n",
       "      <td>NaN</td>\n",
       "      <td>Kerin O’Keefe</td>\n",
       "      <td>@kerinokeefe</td>\n",
       "      <td>Nicosia 2013 Vulkà Bianco  (Etna)</td>\n",
       "      <td>White Blend</td>\n",
       "      <td>Nicosia</td>\n",
       "    </tr>\n",
       "    <tr>\n",
       "      <th>1</th>\n",
       "      <td>Portugal</td>\n",
       "      <td>This is ripe and fruity, a wine that is smooth...</td>\n",
       "      <td>Avidagos</td>\n",
       "      <td>87</td>\n",
       "      <td>15.0</td>\n",
       "      <td>Douro</td>\n",
       "      <td>NaN</td>\n",
       "      <td>NaN</td>\n",
       "      <td>Roger Voss</td>\n",
       "      <td>@vossroger</td>\n",
       "      <td>Quinta dos Avidagos 2011 Avidagos Red (Douro)</td>\n",
       "      <td>Portuguese Red</td>\n",
       "      <td>Quinta dos Avidagos</td>\n",
       "    </tr>\n",
       "    <tr>\n",
       "      <th>2</th>\n",
       "      <td>US</td>\n",
       "      <td>Tart and snappy, the flavors of lime flesh and...</td>\n",
       "      <td>NaN</td>\n",
       "      <td>87</td>\n",
       "      <td>14.0</td>\n",
       "      <td>Oregon</td>\n",
       "      <td>Willamette Valley</td>\n",
       "      <td>Willamette Valley</td>\n",
       "      <td>Paul Gregutt</td>\n",
       "      <td>@paulgwine</td>\n",
       "      <td>Rainstorm 2013 Pinot Gris (Willamette Valley)</td>\n",
       "      <td>Pinot Gris</td>\n",
       "      <td>Rainstorm</td>\n",
       "    </tr>\n",
       "    <tr>\n",
       "      <th>3</th>\n",
       "      <td>US</td>\n",
       "      <td>Pineapple rind, lemon pith and orange blossom ...</td>\n",
       "      <td>Reserve Late Harvest</td>\n",
       "      <td>87</td>\n",
       "      <td>13.0</td>\n",
       "      <td>Michigan</td>\n",
       "      <td>Lake Michigan Shore</td>\n",
       "      <td>NaN</td>\n",
       "      <td>Alexander Peartree</td>\n",
       "      <td>NaN</td>\n",
       "      <td>St. Julian 2013 Reserve Late Harvest Riesling ...</td>\n",
       "      <td>Riesling</td>\n",
       "      <td>St. Julian</td>\n",
       "    </tr>\n",
       "    <tr>\n",
       "      <th>4</th>\n",
       "      <td>US</td>\n",
       "      <td>Much like the regular bottling from 2012, this...</td>\n",
       "      <td>Vintner's Reserve Wild Child Block</td>\n",
       "      <td>87</td>\n",
       "      <td>65.0</td>\n",
       "      <td>Oregon</td>\n",
       "      <td>Willamette Valley</td>\n",
       "      <td>Willamette Valley</td>\n",
       "      <td>Paul Gregutt</td>\n",
       "      <td>@paulgwine</td>\n",
       "      <td>Sweet Cheeks 2012 Vintner's Reserve Wild Child...</td>\n",
       "      <td>Pinot Noir</td>\n",
       "      <td>Sweet Cheeks</td>\n",
       "    </tr>\n",
       "  </tbody>\n",
       "</table>\n",
       "</div>"
      ],
      "text/plain": [
       "    country                                        description  \\\n",
       "0     Italy  Aromas include tropical fruit, broom, brimston...   \n",
       "1  Portugal  This is ripe and fruity, a wine that is smooth...   \n",
       "2        US  Tart and snappy, the flavors of lime flesh and...   \n",
       "3        US  Pineapple rind, lemon pith and orange blossom ...   \n",
       "4        US  Much like the regular bottling from 2012, this...   \n",
       "\n",
       "                          designation  points  price           province  \\\n",
       "0                        Vulkà Bianco      87    NaN  Sicily & Sardinia   \n",
       "1                            Avidagos      87   15.0              Douro   \n",
       "2                                 NaN      87   14.0             Oregon   \n",
       "3                Reserve Late Harvest      87   13.0           Michigan   \n",
       "4  Vintner's Reserve Wild Child Block      87   65.0             Oregon   \n",
       "\n",
       "              region_1           region_2         taster_name  \\\n",
       "0                 Etna                NaN       Kerin O’Keefe   \n",
       "1                  NaN                NaN          Roger Voss   \n",
       "2    Willamette Valley  Willamette Valley        Paul Gregutt   \n",
       "3  Lake Michigan Shore                NaN  Alexander Peartree   \n",
       "4    Willamette Valley  Willamette Valley        Paul Gregutt   \n",
       "\n",
       "  taster_twitter_handle                                              title  \\\n",
       "0          @kerinokeefe                  Nicosia 2013 Vulkà Bianco  (Etna)   \n",
       "1            @vossroger      Quinta dos Avidagos 2011 Avidagos Red (Douro)   \n",
       "2           @paulgwine       Rainstorm 2013 Pinot Gris (Willamette Valley)   \n",
       "3                   NaN  St. Julian 2013 Reserve Late Harvest Riesling ...   \n",
       "4           @paulgwine   Sweet Cheeks 2012 Vintner's Reserve Wild Child...   \n",
       "\n",
       "          variety               winery  \n",
       "0     White Blend              Nicosia  \n",
       "1  Portuguese Red  Quinta dos Avidagos  \n",
       "2      Pinot Gris            Rainstorm  \n",
       "3        Riesling           St. Julian  \n",
       "4      Pinot Noir         Sweet Cheeks  "
      ]
     },
     "execution_count": 1,
     "metadata": {},
     "output_type": "execute_result"
    }
   ],
   "source": [
    "import pandas as pd\n",
    "pd.set_option(\"display.max_rows\", 5)\n",
    "reviews = pd.read_csv(\"../input/wine-reviews/winemag-data-130k-v2.csv\", index_col=0)\n",
    "\n",
    "from learntools.core import binder; binder.bind(globals())\n",
    "from learntools.pandas.summary_functions_and_maps import *\n",
    "print(\"Setup complete.\")\n",
    "\n",
    "reviews.head()"
   ]
  },
  {
   "cell_type": "markdown",
   "id": "42361915",
   "metadata": {
    "papermill": {
     "duration": 0.006959,
     "end_time": "2022-06-19T22:42:18.021833",
     "exception": false,
     "start_time": "2022-06-19T22:42:18.014874",
     "status": "completed"
    },
    "tags": []
   },
   "source": [
    "# Exercises"
   ]
  },
  {
   "cell_type": "markdown",
   "id": "73db5b01",
   "metadata": {
    "papermill": {
     "duration": 0.007638,
     "end_time": "2022-06-19T22:42:18.037622",
     "exception": false,
     "start_time": "2022-06-19T22:42:18.029984",
     "status": "completed"
    },
    "tags": []
   },
   "source": [
    "## 1.\n",
    "\n",
    "What is the median of the `points` column in the `reviews` DataFrame?"
   ]
  },
  {
   "cell_type": "code",
   "execution_count": 2,
   "id": "2fbf060e",
   "metadata": {
    "execution": {
     "iopub.execute_input": "2022-06-19T22:42:18.055324Z",
     "iopub.status.busy": "2022-06-19T22:42:18.054296Z",
     "iopub.status.idle": "2022-06-19T22:42:18.066846Z",
     "shell.execute_reply": "2022-06-19T22:42:18.065741Z"
    },
    "papermill": {
     "duration": 0.023686,
     "end_time": "2022-06-19T22:42:18.069122",
     "exception": false,
     "start_time": "2022-06-19T22:42:18.045436",
     "status": "completed"
    },
    "tags": []
   },
   "outputs": [
    {
     "data": {
      "application/javascript": [
       "parent.postMessage({\"jupyterEvent\": \"custom.exercise_interaction\", \"data\": {\"outcomeType\": 1, \"valueTowardsCompletion\": 0.14285714285714285, \"interactionType\": 1, \"questionType\": 1, \"questionId\": \"1_MedianPoints\", \"learnToolsVersion\": \"0.3.4\", \"failureMessage\": \"\", \"exceptionClass\": \"\", \"trace\": \"\"}}, \"*\")"
      ],
      "text/plain": [
       "<IPython.core.display.Javascript object>"
      ]
     },
     "metadata": {},
     "output_type": "display_data"
    },
    {
     "data": {
      "text/markdown": [
       "<span style=\"color:#33cc33\">Correct</span>"
      ],
      "text/plain": [
       "Correct"
      ]
     },
     "metadata": {},
     "output_type": "display_data"
    }
   ],
   "source": [
    "median_points = reviews.points.median()\n",
    "\n",
    "# Check your answer\n",
    "q1.check()"
   ]
  },
  {
   "cell_type": "code",
   "execution_count": 3,
   "id": "8bfe5718",
   "metadata": {
    "execution": {
     "iopub.execute_input": "2022-06-19T22:42:18.087015Z",
     "iopub.status.busy": "2022-06-19T22:42:18.086585Z",
     "iopub.status.idle": "2022-06-19T22:42:18.091111Z",
     "shell.execute_reply": "2022-06-19T22:42:18.090050Z"
    },
    "papermill": {
     "duration": 0.01638,
     "end_time": "2022-06-19T22:42:18.093318",
     "exception": false,
     "start_time": "2022-06-19T22:42:18.076938",
     "status": "completed"
    },
    "tags": []
   },
   "outputs": [],
   "source": [
    "#q1.hint()\n",
    "#q1.solution()"
   ]
  },
  {
   "cell_type": "markdown",
   "id": "72783cf0",
   "metadata": {
    "papermill": {
     "duration": 0.007717,
     "end_time": "2022-06-19T22:42:18.109629",
     "exception": false,
     "start_time": "2022-06-19T22:42:18.101912",
     "status": "completed"
    },
    "tags": []
   },
   "source": [
    "## 2. \n",
    "What countries are represented in the dataset? (Your answer should not include any duplicates.)"
   ]
  },
  {
   "cell_type": "code",
   "execution_count": 4,
   "id": "efdce692",
   "metadata": {
    "execution": {
     "iopub.execute_input": "2022-06-19T22:42:18.127235Z",
     "iopub.status.busy": "2022-06-19T22:42:18.126794Z",
     "iopub.status.idle": "2022-06-19T22:42:18.148133Z",
     "shell.execute_reply": "2022-06-19T22:42:18.146996Z"
    },
    "papermill": {
     "duration": 0.033179,
     "end_time": "2022-06-19T22:42:18.150558",
     "exception": false,
     "start_time": "2022-06-19T22:42:18.117379",
     "status": "completed"
    },
    "tags": []
   },
   "outputs": [
    {
     "data": {
      "application/javascript": [
       "parent.postMessage({\"jupyterEvent\": \"custom.exercise_interaction\", \"data\": {\"outcomeType\": 1, \"valueTowardsCompletion\": 0.14285714285714285, \"interactionType\": 1, \"questionType\": 2, \"questionId\": \"2_UniqueCountries\", \"learnToolsVersion\": \"0.3.4\", \"failureMessage\": \"\", \"exceptionClass\": \"\", \"trace\": \"\"}}, \"*\")"
      ],
      "text/plain": [
       "<IPython.core.display.Javascript object>"
      ]
     },
     "metadata": {},
     "output_type": "display_data"
    },
    {
     "data": {
      "text/markdown": [
       "<span style=\"color:#33cc33\">Correct</span>"
      ],
      "text/plain": [
       "Correct"
      ]
     },
     "metadata": {},
     "output_type": "display_data"
    }
   ],
   "source": [
    "countries = reviews.country.unique()\n",
    "# Check your answer\n",
    "q2.check()\n",
    "\n"
   ]
  },
  {
   "cell_type": "code",
   "execution_count": 5,
   "id": "bc571761",
   "metadata": {
    "execution": {
     "iopub.execute_input": "2022-06-19T22:42:18.168616Z",
     "iopub.status.busy": "2022-06-19T22:42:18.167927Z",
     "iopub.status.idle": "2022-06-19T22:42:18.172433Z",
     "shell.execute_reply": "2022-06-19T22:42:18.171406Z"
    },
    "papermill": {
     "duration": 0.016387,
     "end_time": "2022-06-19T22:42:18.174737",
     "exception": false,
     "start_time": "2022-06-19T22:42:18.158350",
     "status": "completed"
    },
    "tags": []
   },
   "outputs": [],
   "source": [
    "#q2.hint()\n",
    "#q2.solution()"
   ]
  },
  {
   "cell_type": "markdown",
   "id": "f99bedb7",
   "metadata": {
    "papermill": {
     "duration": 0.007832,
     "end_time": "2022-06-19T22:42:18.191197",
     "exception": false,
     "start_time": "2022-06-19T22:42:18.183365",
     "status": "completed"
    },
    "tags": []
   },
   "source": [
    "## 3.\n",
    "How often does each country appear in the dataset? Create a Series `reviews_per_country` mapping countries to the count of reviews of wines from that country."
   ]
  },
  {
   "cell_type": "code",
   "execution_count": 6,
   "id": "415ca372",
   "metadata": {
    "execution": {
     "iopub.execute_input": "2022-06-19T22:42:18.209089Z",
     "iopub.status.busy": "2022-06-19T22:42:18.208638Z",
     "iopub.status.idle": "2022-06-19T22:42:18.233153Z",
     "shell.execute_reply": "2022-06-19T22:42:18.232364Z"
    },
    "papermill": {
     "duration": 0.036729,
     "end_time": "2022-06-19T22:42:18.235605",
     "exception": false,
     "start_time": "2022-06-19T22:42:18.198876",
     "status": "completed"
    },
    "tags": []
   },
   "outputs": [
    {
     "data": {
      "application/javascript": [
       "parent.postMessage({\"jupyterEvent\": \"custom.exercise_interaction\", \"data\": {\"outcomeType\": 1, \"valueTowardsCompletion\": 0.14285714285714285, \"interactionType\": 1, \"questionType\": 1, \"questionId\": \"3_ReviewsPerCountry\", \"learnToolsVersion\": \"0.3.4\", \"failureMessage\": \"\", \"exceptionClass\": \"\", \"trace\": \"\"}}, \"*\")"
      ],
      "text/plain": [
       "<IPython.core.display.Javascript object>"
      ]
     },
     "metadata": {},
     "output_type": "display_data"
    },
    {
     "data": {
      "text/markdown": [
       "<span style=\"color:#33cc33\">Correct</span>"
      ],
      "text/plain": [
       "Correct"
      ]
     },
     "metadata": {},
     "output_type": "display_data"
    }
   ],
   "source": [
    "reviews_per_country = reviews.country.value_counts()\n",
    "\n",
    "# Check your answer\n",
    "q3.check()"
   ]
  },
  {
   "cell_type": "code",
   "execution_count": 7,
   "id": "50fffde5",
   "metadata": {
    "execution": {
     "iopub.execute_input": "2022-06-19T22:42:18.255046Z",
     "iopub.status.busy": "2022-06-19T22:42:18.254616Z",
     "iopub.status.idle": "2022-06-19T22:42:18.258982Z",
     "shell.execute_reply": "2022-06-19T22:42:18.257830Z"
    },
    "papermill": {
     "duration": 0.017267,
     "end_time": "2022-06-19T22:42:18.261507",
     "exception": false,
     "start_time": "2022-06-19T22:42:18.244240",
     "status": "completed"
    },
    "tags": []
   },
   "outputs": [],
   "source": [
    "#q3.hint()\n",
    "#q3.solution()"
   ]
  },
  {
   "cell_type": "markdown",
   "id": "9e49a3ea",
   "metadata": {
    "papermill": {
     "duration": 0.00781,
     "end_time": "2022-06-19T22:42:18.277486",
     "exception": false,
     "start_time": "2022-06-19T22:42:18.269676",
     "status": "completed"
    },
    "tags": []
   },
   "source": [
    "## 4.\n",
    "Create variable `centered_price` containing a version of the `price` column with the mean price subtracted.\n",
    "\n",
    "(Note: this 'centering' transformation is a common preprocessing step before applying various machine learning algorithms.) "
   ]
  },
  {
   "cell_type": "code",
   "execution_count": 8,
   "id": "a4c46fbb",
   "metadata": {
    "execution": {
     "iopub.execute_input": "2022-06-19T22:42:18.296454Z",
     "iopub.status.busy": "2022-06-19T22:42:18.295643Z",
     "iopub.status.idle": "2022-06-19T22:42:18.306891Z",
     "shell.execute_reply": "2022-06-19T22:42:18.305728Z"
    },
    "papermill": {
     "duration": 0.023367,
     "end_time": "2022-06-19T22:42:18.309200",
     "exception": false,
     "start_time": "2022-06-19T22:42:18.285833",
     "status": "completed"
    },
    "tags": []
   },
   "outputs": [
    {
     "data": {
      "application/javascript": [
       "parent.postMessage({\"jupyterEvent\": \"custom.exercise_interaction\", \"data\": {\"outcomeType\": 1, \"valueTowardsCompletion\": 0.14285714285714285, \"interactionType\": 1, \"questionType\": 1, \"questionId\": \"4_CenteredPrice\", \"learnToolsVersion\": \"0.3.4\", \"failureMessage\": \"\", \"exceptionClass\": \"\", \"trace\": \"\"}}, \"*\")"
      ],
      "text/plain": [
       "<IPython.core.display.Javascript object>"
      ]
     },
     "metadata": {},
     "output_type": "display_data"
    },
    {
     "data": {
      "text/markdown": [
       "<span style=\"color:#33cc33\">Correct</span>"
      ],
      "text/plain": [
       "Correct"
      ]
     },
     "metadata": {},
     "output_type": "display_data"
    }
   ],
   "source": [
    "centered_price = reviews.price - reviews.price.mean()\n",
    "\n",
    "# Check your answer\n",
    "q4.check()"
   ]
  },
  {
   "cell_type": "code",
   "execution_count": 9,
   "id": "476704ea",
   "metadata": {
    "execution": {
     "iopub.execute_input": "2022-06-19T22:42:18.328151Z",
     "iopub.status.busy": "2022-06-19T22:42:18.327694Z",
     "iopub.status.idle": "2022-06-19T22:42:18.332363Z",
     "shell.execute_reply": "2022-06-19T22:42:18.331296Z"
    },
    "papermill": {
     "duration": 0.017133,
     "end_time": "2022-06-19T22:42:18.334773",
     "exception": false,
     "start_time": "2022-06-19T22:42:18.317640",
     "status": "completed"
    },
    "tags": []
   },
   "outputs": [],
   "source": [
    "#q4.hint()\n",
    "#q4.solution()"
   ]
  },
  {
   "cell_type": "markdown",
   "id": "b532ee30",
   "metadata": {
    "papermill": {
     "duration": 0.008692,
     "end_time": "2022-06-19T22:42:18.352906",
     "exception": false,
     "start_time": "2022-06-19T22:42:18.344214",
     "status": "completed"
    },
    "tags": []
   },
   "source": [
    "## 5.\n",
    "I'm an economical wine buyer. Which wine is the \"best bargain\"? Create a variable `bargain_wine` with the title of the wine with the highest points-to-price ratio in the dataset."
   ]
  },
  {
   "cell_type": "code",
   "execution_count": 10,
   "id": "dbbbaee2",
   "metadata": {
    "execution": {
     "iopub.execute_input": "2022-06-19T22:42:18.374037Z",
     "iopub.status.busy": "2022-06-19T22:42:18.373659Z",
     "iopub.status.idle": "2022-06-19T22:42:18.393747Z",
     "shell.execute_reply": "2022-06-19T22:42:18.392433Z"
    },
    "papermill": {
     "duration": 0.034541,
     "end_time": "2022-06-19T22:42:18.396723",
     "exception": false,
     "start_time": "2022-06-19T22:42:18.362182",
     "status": "completed"
    },
    "tags": []
   },
   "outputs": [
    {
     "data": {
      "application/javascript": [
       "parent.postMessage({\"jupyterEvent\": \"custom.exercise_interaction\", \"data\": {\"outcomeType\": 1, \"valueTowardsCompletion\": 0.14285714285714285, \"interactionType\": 1, \"questionType\": 2, \"questionId\": \"5_BargainWine\", \"learnToolsVersion\": \"0.3.4\", \"failureMessage\": \"\", \"exceptionClass\": \"\", \"trace\": \"\"}}, \"*\")"
      ],
      "text/plain": [
       "<IPython.core.display.Javascript object>"
      ]
     },
     "metadata": {},
     "output_type": "display_data"
    },
    {
     "data": {
      "text/markdown": [
       "<span style=\"color:#33cc33\">Correct</span>"
      ],
      "text/plain": [
       "Correct"
      ]
     },
     "metadata": {},
     "output_type": "display_data"
    }
   ],
   "source": [
    "bargain_index = (reviews.points / reviews.price).idxmax()\n",
    "bargain_wine = reviews.loc[bargain_index, 'title']\n",
    "\n",
    "# Check your answer\n",
    "q5.check()"
   ]
  },
  {
   "cell_type": "code",
   "execution_count": 11,
   "id": "6c6f9d59",
   "metadata": {
    "execution": {
     "iopub.execute_input": "2022-06-19T22:42:18.416648Z",
     "iopub.status.busy": "2022-06-19T22:42:18.415993Z",
     "iopub.status.idle": "2022-06-19T22:42:18.420659Z",
     "shell.execute_reply": "2022-06-19T22:42:18.419691Z"
    },
    "papermill": {
     "duration": 0.017227,
     "end_time": "2022-06-19T22:42:18.422660",
     "exception": false,
     "start_time": "2022-06-19T22:42:18.405433",
     "status": "completed"
    },
    "tags": []
   },
   "outputs": [],
   "source": [
    "#q5.hint()\n",
    "#q5.solution()"
   ]
  },
  {
   "cell_type": "markdown",
   "id": "221a7cd0",
   "metadata": {
    "papermill": {
     "duration": 0.008173,
     "end_time": "2022-06-19T22:42:18.439885",
     "exception": false,
     "start_time": "2022-06-19T22:42:18.431712",
     "status": "completed"
    },
    "tags": []
   },
   "source": [
    "## 6.\n",
    "There are only so many words you can use when describing a bottle of wine. Is a wine more likely to be \"tropical\" or \"fruity\"? Create a Series `descriptor_counts` counting how many times each of these two words appears in the `description` column in the dataset. (For simplicity, let's ignore the capitalized versions of these words.)"
   ]
  },
  {
   "cell_type": "code",
   "execution_count": 12,
   "id": "b1313278",
   "metadata": {
    "execution": {
     "iopub.execute_input": "2022-06-19T22:42:18.460279Z",
     "iopub.status.busy": "2022-06-19T22:42:18.459455Z",
     "iopub.status.idle": "2022-06-19T22:42:18.607806Z",
     "shell.execute_reply": "2022-06-19T22:42:18.606661Z"
    },
    "papermill": {
     "duration": 0.160965,
     "end_time": "2022-06-19T22:42:18.610202",
     "exception": false,
     "start_time": "2022-06-19T22:42:18.449237",
     "status": "completed"
    },
    "tags": []
   },
   "outputs": [
    {
     "data": {
      "application/javascript": [
       "parent.postMessage({\"jupyterEvent\": \"custom.exercise_interaction\", \"data\": {\"outcomeType\": 1, \"valueTowardsCompletion\": 0.14285714285714285, \"interactionType\": 1, \"questionType\": 1, \"questionId\": \"6_DescriptorCounts\", \"learnToolsVersion\": \"0.3.4\", \"failureMessage\": \"\", \"exceptionClass\": \"\", \"trace\": \"\"}}, \"*\")"
      ],
      "text/plain": [
       "<IPython.core.display.Javascript object>"
      ]
     },
     "metadata": {},
     "output_type": "display_data"
    },
    {
     "data": {
      "text/markdown": [
       "<span style=\"color:#33cc33\">Correct</span>"
      ],
      "text/plain": [
       "Correct"
      ]
     },
     "metadata": {},
     "output_type": "display_data"
    }
   ],
   "source": [
    "descriptor_counts = tropical=reviews.description.map(lambda d: \"tropical\" in d).sum()\n",
    "fruity=reviews.description.map(lambda d: \"fruity\" in d).sum()\n",
    "descriptor_counts = pd.Series([tropical, fruity], index=['tropical', 'fruity'])\n",
    "\n",
    "# Check your answer\n",
    "q6.check()"
   ]
  },
  {
   "cell_type": "code",
   "execution_count": 13,
   "id": "917d8dc2",
   "metadata": {
    "execution": {
     "iopub.execute_input": "2022-06-19T22:42:18.630171Z",
     "iopub.status.busy": "2022-06-19T22:42:18.629745Z",
     "iopub.status.idle": "2022-06-19T22:42:18.633961Z",
     "shell.execute_reply": "2022-06-19T22:42:18.632976Z"
    },
    "papermill": {
     "duration": 0.017245,
     "end_time": "2022-06-19T22:42:18.636559",
     "exception": false,
     "start_time": "2022-06-19T22:42:18.619314",
     "status": "completed"
    },
    "tags": []
   },
   "outputs": [],
   "source": [
    "#q6.hint()\n",
    "#q6.solution()"
   ]
  },
  {
   "cell_type": "markdown",
   "id": "3f248a4c",
   "metadata": {
    "papermill": {
     "duration": 0.008776,
     "end_time": "2022-06-19T22:42:18.654581",
     "exception": false,
     "start_time": "2022-06-19T22:42:18.645805",
     "status": "completed"
    },
    "tags": []
   },
   "source": [
    "## 7.\n",
    "We'd like to host these wine reviews on our website, but a rating system ranging from 80 to 100 points is too hard to understand - we'd like to translate them into simple star ratings. A score of 95 or higher counts as 3 stars, a score of at least 85 but less than 95 is 2 stars. Any other score is 1 star.\n",
    "\n",
    "Also, the Canadian Vintners Association bought a lot of ads on the site, so any wines from Canada should automatically get 3 stars, regardless of points.\n",
    "\n",
    "Create a series `star_ratings` with the number of stars corresponding to each review in the dataset."
   ]
  },
  {
   "cell_type": "code",
   "execution_count": 14,
   "id": "c8ad26cc",
   "metadata": {
    "execution": {
     "iopub.execute_input": "2022-06-19T22:42:18.675758Z",
     "iopub.status.busy": "2022-06-19T22:42:18.674737Z",
     "iopub.status.idle": "2022-06-19T22:42:18.762039Z",
     "shell.execute_reply": "2022-06-19T22:42:18.760739Z"
    },
    "papermill": {
     "duration": 0.100695,
     "end_time": "2022-06-19T22:42:18.764728",
     "exception": false,
     "start_time": "2022-06-19T22:42:18.664033",
     "status": "completed"
    },
    "tags": []
   },
   "outputs": [
    {
     "data": {
      "application/javascript": [
       "parent.postMessage({\"jupyterEvent\": \"custom.exercise_interaction\", \"data\": {\"outcomeType\": 1, \"valueTowardsCompletion\": 0.14285714285714285, \"interactionType\": 1, \"questionType\": 1, \"questionId\": \"7_StarRatings\", \"learnToolsVersion\": \"0.3.4\", \"failureMessage\": \"\", \"exceptionClass\": \"\", \"trace\": \"\"}}, \"*\")"
      ],
      "text/plain": [
       "<IPython.core.display.Javascript object>"
      ]
     },
     "metadata": {},
     "output_type": "display_data"
    },
    {
     "data": {
      "text/markdown": [
       "<span style=\"color:#33cc33\">Correct</span>"
      ],
      "text/plain": [
       "Correct"
      ]
     },
     "metadata": {},
     "output_type": "display_data"
    }
   ],
   "source": [
    "star_ratings = star_ratings = reviews.points.map(lambda p: 3 if (p >= 95) else 2 if (p>= 85) else 1)\n",
    "\n",
    "\n",
    "# Check your answer\n",
    "q7.check()"
   ]
  },
  {
   "cell_type": "code",
   "execution_count": 15,
   "id": "c0b5a62e",
   "metadata": {
    "execution": {
     "iopub.execute_input": "2022-06-19T22:42:18.786852Z",
     "iopub.status.busy": "2022-06-19T22:42:18.786361Z",
     "iopub.status.idle": "2022-06-19T22:42:18.790770Z",
     "shell.execute_reply": "2022-06-19T22:42:18.789727Z"
    },
    "papermill": {
     "duration": 0.01858,
     "end_time": "2022-06-19T22:42:18.793236",
     "exception": false,
     "start_time": "2022-06-19T22:42:18.774656",
     "status": "completed"
    },
    "tags": []
   },
   "outputs": [],
   "source": [
    "#q7.hint()\n",
    "#q7.solution()"
   ]
  },
  {
   "cell_type": "markdown",
   "id": "90bdf310",
   "metadata": {
    "papermill": {
     "duration": 0.009622,
     "end_time": "2022-06-19T22:42:18.812522",
     "exception": false,
     "start_time": "2022-06-19T22:42:18.802900",
     "status": "completed"
    },
    "tags": []
   },
   "source": [
    "# Keep going\n",
    "Continue to **[grouping and sorting](https://www.kaggle.com/residentmario/grouping-and-sorting)**."
   ]
  },
  {
   "cell_type": "markdown",
   "id": "6534ac96",
   "metadata": {
    "papermill": {
     "duration": 0.009164,
     "end_time": "2022-06-19T22:42:18.831093",
     "exception": false,
     "start_time": "2022-06-19T22:42:18.821929",
     "status": "completed"
    },
    "tags": []
   },
   "source": [
    "---\n",
    "\n",
    "\n",
    "\n",
    "\n",
    "*Have questions or comments? Visit the [course discussion forum](https://www.kaggle.com/learn/pandas/discussion) to chat with other learners.*"
   ]
  }
 ],
 "metadata": {
  "kernelspec": {
   "display_name": "Python 3",
   "language": "python",
   "name": "python3"
  },
  "language_info": {
   "codemirror_mode": {
    "name": "ipython",
    "version": 3
   },
   "file_extension": ".py",
   "mimetype": "text/x-python",
   "name": "python",
   "nbconvert_exporter": "python",
   "pygments_lexer": "ipython3",
   "version": "3.7.12"
  },
  "papermill": {
   "default_parameters": {},
   "duration": 21.187129,
   "end_time": "2022-06-19T22:42:19.568947",
   "environment_variables": {},
   "exception": null,
   "input_path": "__notebook__.ipynb",
   "output_path": "__notebook__.ipynb",
   "parameters": {},
   "start_time": "2022-06-19T22:41:58.381818",
   "version": "2.3.4"
  }
 },
 "nbformat": 4,
 "nbformat_minor": 5
}
